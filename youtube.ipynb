{
 "cells": [
  {
   "cell_type": "code",
   "execution_count": 1,
   "id": "585e1649-4032-48d9-986c-65bd0084f4e2",
   "metadata": {},
   "outputs": [
    {
     "name": "stdout",
     "output_type": "stream",
     "text": [
      "Requirement already satisfied: pytube in c:\\users\\user\\appdata\\local\\programs\\python\\python313\\lib\\site-packages (15.0.0)\n"
     ]
    }
   ],
   "source": [
    "!pip install pytube"
   ]
  },
  {
   "cell_type": "code",
   "execution_count": 2,
   "id": "14133ac2-868e-4295-8653-eedcb2f44e47",
   "metadata": {},
   "outputs": [],
   "source": [
    "from pytube import YouTube"
   ]
  },
  {
   "cell_type": "code",
   "execution_count": 10,
   "id": "fec1877e-07ed-457b-b4e9-396dd96c7201",
   "metadata": {},
   "outputs": [],
   "source": [
    "url=\"https://youtu.be/TwusptQpI6Q?si=mZJCgCCdlWjsaF4T\"\n",
    "yt=YouTube(url)"
   ]
  },
  {
   "cell_type": "code",
   "execution_count": null,
   "id": "0764bd9a-2acf-4ed1-a231-37ef26bf5eff",
   "metadata": {},
   "outputs": [],
   "source": [
    "stream =yt.streams.get_highest_resolution()\n",
    "stream.download()\n",
    "print('download completed')\n",
    "# YouTube video link\n",
    "#link = \"https://www.youtube.com/watch?v=VIDEO_ID\"\n",
    "# Create YouTube object\n",
    "#yt = YouTube(link)\n",
    "# Get highest resolution stream\n",
    "#stream = yt.streams.get_highest_resolution()\n",
    "# Download video\n",
    "#stream.download(output_path=\".\", filename=\"my_video.mp4\")\n",
    "#print(\"Download completed!\")\n",
    "#to download the youtube video \n",
    "#output_path=\".\" → saves in current folder\n",
    "#filename=\"my_video.mp4\" → saves with this name"
   ]
  },
  {
   "cell_type": "code",
   "execution_count": null,
   "id": "902f1850-2ade-4158-bb88-21f9a07da86b",
   "metadata": {},
   "outputs": [],
   "source": [
    "# Example: Download 720p\n",
    "#stream = yt.streams.filter(res=\"720p\", progressive=True).first()\n",
    "#stream.download(output_path=\".\", filename=\"video_720p.mp4\")\n",
    "#print(\"720p video downloaded!\")"
   ]
  },
  {
   "cell_type": "code",
   "execution_count": null,
   "id": "2bb1eb1e-c97c-40d5-a64e-cee990fee87d",
   "metadata": {},
   "outputs": [],
   "source": [
    "#audio_stream = yt.streams.filter(only_audio=True).first()\n",
    "#audio_stream.download(output_path=\".\", filename=\"my_audio.mp3\")\n",
    "#to only download audio "
   ]
  }
 ],
 "metadata": {
  "kernelspec": {
   "display_name": "Python 3 (ipykernel)",
   "language": "python",
   "name": "python3"
  },
  "language_info": {
   "codemirror_mode": {
    "name": "ipython",
    "version": 3
   },
   "file_extension": ".py",
   "mimetype": "text/x-python",
   "name": "python",
   "nbconvert_exporter": "python",
   "pygments_lexer": "ipython3",
   "version": "3.13.7"
  }
 },
 "nbformat": 4,
 "nbformat_minor": 5
}
